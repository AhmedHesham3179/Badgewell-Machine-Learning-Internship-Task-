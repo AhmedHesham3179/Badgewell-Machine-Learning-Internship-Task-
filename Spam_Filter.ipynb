{
  "nbformat": 4,
  "nbformat_minor": 0,
  "metadata": {
    "colab": {
      "name": "Spam Filter.ipynb",
      "provenance": [],
      "collapsed_sections": [],
      "include_colab_link": true
    },
    "kernelspec": {
      "name": "python3",
      "display_name": "Python 3"
    }
  },
  "cells": [
    {
      "cell_type": "markdown",
      "metadata": {
        "id": "view-in-github",
        "colab_type": "text"
      },
      "source": [
        "<a href=\"https://colab.research.google.com/github/AhmedHesham3179/Badgewell-Machine-Learning-Internship-Task-/blob/master/Spam_Filter.ipynb\" target=\"_parent\"><img src=\"https://colab.research.google.com/assets/colab-badge.svg\" alt=\"Open In Colab\"/></a>"
      ]
    },
    {
      "cell_type": "markdown",
      "metadata": {
        "id": "Hstiwf1P2e58",
        "colab_type": "text"
      },
      "source": [
        "# Loading dataset"
      ]
    },
    {
      "cell_type": "markdown",
      "metadata": {
        "id": "_GoreFApTkjb",
        "colab_type": "text"
      },
      "source": [
        "The first task is to read data from .csv file."
      ]
    },
    {
      "cell_type": "code",
      "metadata": {
        "id": "k7ADiJEAijwW",
        "colab_type": "code",
        "colab": {
          "base_uri": "https://localhost:8080/",
          "height": 215
        },
        "outputId": "b974848f-9bfe-4788-b042-71682246be71"
      },
      "source": [
        "import pandas as pd\n",
        "data = pd.read_csv(\"spambase.csv\")\n",
        "data.head()"
      ],
      "execution_count": 1,
      "outputs": [
        {
          "output_type": "execute_result",
          "data": {
            "text/html": [
              "<div>\n",
              "<style scoped>\n",
              "    .dataframe tbody tr th:only-of-type {\n",
              "        vertical-align: middle;\n",
              "    }\n",
              "\n",
              "    .dataframe tbody tr th {\n",
              "        vertical-align: top;\n",
              "    }\n",
              "\n",
              "    .dataframe thead th {\n",
              "        text-align: right;\n",
              "    }\n",
              "</style>\n",
              "<table border=\"1\" class=\"dataframe\">\n",
              "  <thead>\n",
              "    <tr style=\"text-align: right;\">\n",
              "      <th></th>\n",
              "      <th>word_freq_make</th>\n",
              "      <th>word_freq_address</th>\n",
              "      <th>word_freq_all</th>\n",
              "      <th>word_freq_3d</th>\n",
              "      <th>word_freq_our</th>\n",
              "      <th>word_freq_over</th>\n",
              "      <th>word_freq_remove</th>\n",
              "      <th>word_freq_internet</th>\n",
              "      <th>word_freq_order</th>\n",
              "      <th>word_freq_mail</th>\n",
              "      <th>word_freq_receive</th>\n",
              "      <th>word_freq_will</th>\n",
              "      <th>word_freq_people</th>\n",
              "      <th>word_freq_report</th>\n",
              "      <th>word_freq_addresses</th>\n",
              "      <th>word_freq_free</th>\n",
              "      <th>word_freq_business</th>\n",
              "      <th>word_freq_email</th>\n",
              "      <th>word_freq_you</th>\n",
              "      <th>word_freq_credit</th>\n",
              "      <th>word_freq_your</th>\n",
              "      <th>word_freq_font</th>\n",
              "      <th>word_freq_000</th>\n",
              "      <th>word_freq_money</th>\n",
              "      <th>word_freq_hp</th>\n",
              "      <th>word_freq_hpl</th>\n",
              "      <th>word_freq_george</th>\n",
              "      <th>word_freq_650</th>\n",
              "      <th>word_freq_lab</th>\n",
              "      <th>word_freq_labs</th>\n",
              "      <th>word_freq_telnet</th>\n",
              "      <th>word_freq_857</th>\n",
              "      <th>word_freq_data</th>\n",
              "      <th>word_freq_415</th>\n",
              "      <th>word_freq_85</th>\n",
              "      <th>word_freq_technology</th>\n",
              "      <th>word_freq_1999</th>\n",
              "      <th>word_freq_parts</th>\n",
              "      <th>word_freq_pm</th>\n",
              "      <th>word_freq_direct</th>\n",
              "      <th>word_freq_cs</th>\n",
              "      <th>word_freq_meeting</th>\n",
              "      <th>word_freq_original</th>\n",
              "      <th>word_freq_project</th>\n",
              "      <th>word_freq_re</th>\n",
              "      <th>word_freq_edu</th>\n",
              "      <th>word_freq_table</th>\n",
              "      <th>word_freq_conference</th>\n",
              "      <th>char_freq_;</th>\n",
              "      <th>char_freq_(</th>\n",
              "      <th>char_freq_[</th>\n",
              "      <th>char_freq_!</th>\n",
              "      <th>char_freq_$</th>\n",
              "      <th>char_freq_#</th>\n",
              "      <th>capital_run_length_average</th>\n",
              "      <th>capital_run_length_longest</th>\n",
              "      <th>capital_run_length_total</th>\n",
              "      <th>Spam</th>\n",
              "    </tr>\n",
              "  </thead>\n",
              "  <tbody>\n",
              "    <tr>\n",
              "      <th>0</th>\n",
              "      <td>0.00</td>\n",
              "      <td>0.64</td>\n",
              "      <td>0.64</td>\n",
              "      <td>0.0</td>\n",
              "      <td>0.32</td>\n",
              "      <td>0.00</td>\n",
              "      <td>0.00</td>\n",
              "      <td>0.00</td>\n",
              "      <td>0.00</td>\n",
              "      <td>0.00</td>\n",
              "      <td>0.00</td>\n",
              "      <td>0.64</td>\n",
              "      <td>0.00</td>\n",
              "      <td>0.00</td>\n",
              "      <td>0.00</td>\n",
              "      <td>0.32</td>\n",
              "      <td>0.00</td>\n",
              "      <td>1.29</td>\n",
              "      <td>1.93</td>\n",
              "      <td>0.00</td>\n",
              "      <td>0.96</td>\n",
              "      <td>0.0</td>\n",
              "      <td>0.00</td>\n",
              "      <td>0.00</td>\n",
              "      <td>0.0</td>\n",
              "      <td>0.0</td>\n",
              "      <td>0.0</td>\n",
              "      <td>0.0</td>\n",
              "      <td>0.0</td>\n",
              "      <td>0.0</td>\n",
              "      <td>0.0</td>\n",
              "      <td>0.0</td>\n",
              "      <td>0.0</td>\n",
              "      <td>0.0</td>\n",
              "      <td>0.0</td>\n",
              "      <td>0.0</td>\n",
              "      <td>0.00</td>\n",
              "      <td>0.0</td>\n",
              "      <td>0.0</td>\n",
              "      <td>0.00</td>\n",
              "      <td>0.0</td>\n",
              "      <td>0.0</td>\n",
              "      <td>0.00</td>\n",
              "      <td>0.0</td>\n",
              "      <td>0.00</td>\n",
              "      <td>0.00</td>\n",
              "      <td>0.0</td>\n",
              "      <td>0.0</td>\n",
              "      <td>0.00</td>\n",
              "      <td>0.000</td>\n",
              "      <td>0.0</td>\n",
              "      <td>0.778</td>\n",
              "      <td>0.000</td>\n",
              "      <td>0.000</td>\n",
              "      <td>3.756</td>\n",
              "      <td>61</td>\n",
              "      <td>278</td>\n",
              "      <td>1</td>\n",
              "    </tr>\n",
              "    <tr>\n",
              "      <th>1</th>\n",
              "      <td>0.21</td>\n",
              "      <td>0.28</td>\n",
              "      <td>0.50</td>\n",
              "      <td>0.0</td>\n",
              "      <td>0.14</td>\n",
              "      <td>0.28</td>\n",
              "      <td>0.21</td>\n",
              "      <td>0.07</td>\n",
              "      <td>0.00</td>\n",
              "      <td>0.94</td>\n",
              "      <td>0.21</td>\n",
              "      <td>0.79</td>\n",
              "      <td>0.65</td>\n",
              "      <td>0.21</td>\n",
              "      <td>0.14</td>\n",
              "      <td>0.14</td>\n",
              "      <td>0.07</td>\n",
              "      <td>0.28</td>\n",
              "      <td>3.47</td>\n",
              "      <td>0.00</td>\n",
              "      <td>1.59</td>\n",
              "      <td>0.0</td>\n",
              "      <td>0.43</td>\n",
              "      <td>0.43</td>\n",
              "      <td>0.0</td>\n",
              "      <td>0.0</td>\n",
              "      <td>0.0</td>\n",
              "      <td>0.0</td>\n",
              "      <td>0.0</td>\n",
              "      <td>0.0</td>\n",
              "      <td>0.0</td>\n",
              "      <td>0.0</td>\n",
              "      <td>0.0</td>\n",
              "      <td>0.0</td>\n",
              "      <td>0.0</td>\n",
              "      <td>0.0</td>\n",
              "      <td>0.07</td>\n",
              "      <td>0.0</td>\n",
              "      <td>0.0</td>\n",
              "      <td>0.00</td>\n",
              "      <td>0.0</td>\n",
              "      <td>0.0</td>\n",
              "      <td>0.00</td>\n",
              "      <td>0.0</td>\n",
              "      <td>0.00</td>\n",
              "      <td>0.00</td>\n",
              "      <td>0.0</td>\n",
              "      <td>0.0</td>\n",
              "      <td>0.00</td>\n",
              "      <td>0.132</td>\n",
              "      <td>0.0</td>\n",
              "      <td>0.372</td>\n",
              "      <td>0.180</td>\n",
              "      <td>0.048</td>\n",
              "      <td>5.114</td>\n",
              "      <td>101</td>\n",
              "      <td>1028</td>\n",
              "      <td>1</td>\n",
              "    </tr>\n",
              "    <tr>\n",
              "      <th>2</th>\n",
              "      <td>0.06</td>\n",
              "      <td>0.00</td>\n",
              "      <td>0.71</td>\n",
              "      <td>0.0</td>\n",
              "      <td>1.23</td>\n",
              "      <td>0.19</td>\n",
              "      <td>0.19</td>\n",
              "      <td>0.12</td>\n",
              "      <td>0.64</td>\n",
              "      <td>0.25</td>\n",
              "      <td>0.38</td>\n",
              "      <td>0.45</td>\n",
              "      <td>0.12</td>\n",
              "      <td>0.00</td>\n",
              "      <td>1.75</td>\n",
              "      <td>0.06</td>\n",
              "      <td>0.06</td>\n",
              "      <td>1.03</td>\n",
              "      <td>1.36</td>\n",
              "      <td>0.32</td>\n",
              "      <td>0.51</td>\n",
              "      <td>0.0</td>\n",
              "      <td>1.16</td>\n",
              "      <td>0.06</td>\n",
              "      <td>0.0</td>\n",
              "      <td>0.0</td>\n",
              "      <td>0.0</td>\n",
              "      <td>0.0</td>\n",
              "      <td>0.0</td>\n",
              "      <td>0.0</td>\n",
              "      <td>0.0</td>\n",
              "      <td>0.0</td>\n",
              "      <td>0.0</td>\n",
              "      <td>0.0</td>\n",
              "      <td>0.0</td>\n",
              "      <td>0.0</td>\n",
              "      <td>0.00</td>\n",
              "      <td>0.0</td>\n",
              "      <td>0.0</td>\n",
              "      <td>0.06</td>\n",
              "      <td>0.0</td>\n",
              "      <td>0.0</td>\n",
              "      <td>0.12</td>\n",
              "      <td>0.0</td>\n",
              "      <td>0.06</td>\n",
              "      <td>0.06</td>\n",
              "      <td>0.0</td>\n",
              "      <td>0.0</td>\n",
              "      <td>0.01</td>\n",
              "      <td>0.143</td>\n",
              "      <td>0.0</td>\n",
              "      <td>0.276</td>\n",
              "      <td>0.184</td>\n",
              "      <td>0.010</td>\n",
              "      <td>9.821</td>\n",
              "      <td>485</td>\n",
              "      <td>2259</td>\n",
              "      <td>1</td>\n",
              "    </tr>\n",
              "    <tr>\n",
              "      <th>3</th>\n",
              "      <td>0.00</td>\n",
              "      <td>0.00</td>\n",
              "      <td>0.00</td>\n",
              "      <td>0.0</td>\n",
              "      <td>0.63</td>\n",
              "      <td>0.00</td>\n",
              "      <td>0.31</td>\n",
              "      <td>0.63</td>\n",
              "      <td>0.31</td>\n",
              "      <td>0.63</td>\n",
              "      <td>0.31</td>\n",
              "      <td>0.31</td>\n",
              "      <td>0.31</td>\n",
              "      <td>0.00</td>\n",
              "      <td>0.00</td>\n",
              "      <td>0.31</td>\n",
              "      <td>0.00</td>\n",
              "      <td>0.00</td>\n",
              "      <td>3.18</td>\n",
              "      <td>0.00</td>\n",
              "      <td>0.31</td>\n",
              "      <td>0.0</td>\n",
              "      <td>0.00</td>\n",
              "      <td>0.00</td>\n",
              "      <td>0.0</td>\n",
              "      <td>0.0</td>\n",
              "      <td>0.0</td>\n",
              "      <td>0.0</td>\n",
              "      <td>0.0</td>\n",
              "      <td>0.0</td>\n",
              "      <td>0.0</td>\n",
              "      <td>0.0</td>\n",
              "      <td>0.0</td>\n",
              "      <td>0.0</td>\n",
              "      <td>0.0</td>\n",
              "      <td>0.0</td>\n",
              "      <td>0.00</td>\n",
              "      <td>0.0</td>\n",
              "      <td>0.0</td>\n",
              "      <td>0.00</td>\n",
              "      <td>0.0</td>\n",
              "      <td>0.0</td>\n",
              "      <td>0.00</td>\n",
              "      <td>0.0</td>\n",
              "      <td>0.00</td>\n",
              "      <td>0.00</td>\n",
              "      <td>0.0</td>\n",
              "      <td>0.0</td>\n",
              "      <td>0.00</td>\n",
              "      <td>0.137</td>\n",
              "      <td>0.0</td>\n",
              "      <td>0.137</td>\n",
              "      <td>0.000</td>\n",
              "      <td>0.000</td>\n",
              "      <td>3.537</td>\n",
              "      <td>40</td>\n",
              "      <td>191</td>\n",
              "      <td>1</td>\n",
              "    </tr>\n",
              "    <tr>\n",
              "      <th>4</th>\n",
              "      <td>0.00</td>\n",
              "      <td>0.00</td>\n",
              "      <td>0.00</td>\n",
              "      <td>0.0</td>\n",
              "      <td>0.63</td>\n",
              "      <td>0.00</td>\n",
              "      <td>0.31</td>\n",
              "      <td>0.63</td>\n",
              "      <td>0.31</td>\n",
              "      <td>0.63</td>\n",
              "      <td>0.31</td>\n",
              "      <td>0.31</td>\n",
              "      <td>0.31</td>\n",
              "      <td>0.00</td>\n",
              "      <td>0.00</td>\n",
              "      <td>0.31</td>\n",
              "      <td>0.00</td>\n",
              "      <td>0.00</td>\n",
              "      <td>3.18</td>\n",
              "      <td>0.00</td>\n",
              "      <td>0.31</td>\n",
              "      <td>0.0</td>\n",
              "      <td>0.00</td>\n",
              "      <td>0.00</td>\n",
              "      <td>0.0</td>\n",
              "      <td>0.0</td>\n",
              "      <td>0.0</td>\n",
              "      <td>0.0</td>\n",
              "      <td>0.0</td>\n",
              "      <td>0.0</td>\n",
              "      <td>0.0</td>\n",
              "      <td>0.0</td>\n",
              "      <td>0.0</td>\n",
              "      <td>0.0</td>\n",
              "      <td>0.0</td>\n",
              "      <td>0.0</td>\n",
              "      <td>0.00</td>\n",
              "      <td>0.0</td>\n",
              "      <td>0.0</td>\n",
              "      <td>0.00</td>\n",
              "      <td>0.0</td>\n",
              "      <td>0.0</td>\n",
              "      <td>0.00</td>\n",
              "      <td>0.0</td>\n",
              "      <td>0.00</td>\n",
              "      <td>0.00</td>\n",
              "      <td>0.0</td>\n",
              "      <td>0.0</td>\n",
              "      <td>0.00</td>\n",
              "      <td>0.135</td>\n",
              "      <td>0.0</td>\n",
              "      <td>0.135</td>\n",
              "      <td>0.000</td>\n",
              "      <td>0.000</td>\n",
              "      <td>3.537</td>\n",
              "      <td>40</td>\n",
              "      <td>191</td>\n",
              "      <td>1</td>\n",
              "    </tr>\n",
              "  </tbody>\n",
              "</table>\n",
              "</div>"
            ],
            "text/plain": [
              "   word_freq_make  word_freq_address  ...  capital_run_length_total  Spam\n",
              "0            0.00               0.64  ...                       278     1\n",
              "1            0.21               0.28  ...                      1028     1\n",
              "2            0.06               0.00  ...                      2259     1\n",
              "3            0.00               0.00  ...                       191     1\n",
              "4            0.00               0.00  ...                       191     1\n",
              "\n",
              "[5 rows x 58 columns]"
            ]
          },
          "metadata": {
            "tags": []
          },
          "execution_count": 1
        }
      ]
    },
    {
      "cell_type": "markdown",
      "metadata": {
        "id": "-Fpxtvai25nS",
        "colab_type": "text"
      },
      "source": [
        "Selecting features and target"
      ]
    },
    {
      "cell_type": "code",
      "metadata": {
        "id": "X-ekxBIWmgQr",
        "colab_type": "code",
        "colab": {}
      },
      "source": [
        "X = data.iloc[:, :-1]\n",
        "y = data.iloc[:, -1]\n"
      ],
      "execution_count": 0,
      "outputs": []
    },
    {
      "cell_type": "markdown",
      "metadata": {
        "id": "GAsdGwMy3Rby",
        "colab_type": "text"
      },
      "source": [
        "# Data transformations"
      ]
    },
    {
      "cell_type": "markdown",
      "metadata": {
        "id": "NPvN6SnR3c4B",
        "colab_type": "text"
      },
      "source": [
        "Standardization"
      ]
    },
    {
      "cell_type": "markdown",
      "metadata": {
        "id": "2EdC62IOTGWt",
        "colab_type": "text"
      },
      "source": [
        "We scale features in range from 0 t0 1."
      ]
    },
    {
      "cell_type": "code",
      "metadata": {
        "id": "Gi4OuzRlmnbq",
        "colab_type": "code",
        "colab": {
          "base_uri": "https://localhost:8080/",
          "height": 1000
        },
        "outputId": "3dd609b3-3594-45c3-c84c-1104082e5ce6"
      },
      "source": [
        "from sklearn.preprocessing import StandardScaler\n",
        "\n",
        "scaler = StandardScaler(copy=True, with_mean=True, with_std=True)\n",
        "X = scaler.fit_transform(X)\n",
        "\n",
        "print('X \\n' , X[:10])\n",
        "print('y \\n' , y[:10])"
      ],
      "execution_count": 3,
      "outputs": [
        {
          "output_type": "stream",
          "text": [
            "X \n",
            " [[-3.42433707e-01  3.30884903e-01  7.12858774e-01 -4.68995838e-02\n",
            "   1.15647106e-02 -3.50266176e-01 -2.91793886e-01 -2.62561558e-01\n",
            "  -3.23302359e-01 -3.71364386e-01 -2.96859527e-01  1.14087333e-01\n",
            "  -3.12055206e-01 -1.74927167e-01 -1.90114405e-01  8.61714363e-02\n",
            "  -3.21135414e-01  2.08120664e+00  1.50905374e-01 -1.67893113e-01\n",
            "   1.25128398e-01 -1.18171509e-01 -2.90209203e-01 -2.12994388e-01\n",
            "  -3.28814669e-01 -2.99239934e-01 -2.27894812e-01 -2.31830156e-01\n",
            "  -1.66731450e-01 -2.25239518e-01 -1.60539307e-01 -1.43212021e-01\n",
            "  -1.74920257e-01 -1.45215148e-01 -1.98067390e-01 -2.42130222e-01\n",
            "  -3.23455613e-01 -5.98362369e-02 -1.80911344e-01 -1.85303849e-01\n",
            "  -1.20904684e-01 -1.72599962e-01 -2.05993114e-01 -1.27343320e-01\n",
            "  -2.97776209e-01 -1.97387481e-01 -7.13879045e-02 -1.11546231e-01\n",
            "  -1.58453362e-01 -5.14306549e-01 -1.55197675e-01  6.24006575e-01\n",
            "  -3.08354941e-01 -1.03048405e-01 -4.52472762e-02  4.52979198e-02\n",
            "  -8.72413388e-03]\n",
            " [ 3.45359395e-01  5.19091945e-02  4.35129540e-01 -4.68995838e-02\n",
            "  -2.56117291e-01  6.72399288e-01  2.44743253e-01 -8.80100968e-02\n",
            "  -3.23302359e-01  1.08671130e+00  7.45206389e-01  2.88181065e-01\n",
            "   1.84739108e+00  4.51662800e-01  3.50811841e-01 -1.31824898e-01\n",
            "  -1.63480267e-01  1.79366806e-01  1.01837040e+00 -1.67893113e-01\n",
            "   6.49831368e-01 -1.18171509e-01  9.37491084e-01  7.58565079e-01\n",
            "  -3.28814669e-01 -2.99239934e-01 -2.27894812e-01 -2.31830156e-01\n",
            "  -1.66731450e-01 -2.25239518e-01 -1.60539307e-01 -1.43212021e-01\n",
            "  -1.74920257e-01 -1.45215148e-01 -1.98067390e-01 -2.42130222e-01\n",
            "  -1.58129407e-01 -5.98362369e-02 -1.80911344e-01 -1.85303849e-01\n",
            "  -1.20904684e-01 -1.72599962e-01 -2.05993114e-01 -1.27343320e-01\n",
            "  -2.97776209e-01 -1.97387481e-01 -7.13879045e-02 -1.11546231e-01\n",
            "  -1.58453362e-01 -2.60072223e-02 -1.55197675e-01  1.26203155e-01\n",
            "   4.23783059e-01  8.76270901e-03 -2.44326749e-03  2.50562832e-01\n",
            "   1.22832407e+00]\n",
            " [-1.45921392e-01 -1.65071912e-01  8.51723390e-01 -4.68995838e-02\n",
            "   1.36484594e+00  3.43685389e-01  1.93644478e-01  3.66695187e-02\n",
            "   1.97401680e+00  1.64216998e-02  1.58878356e+00 -1.06431396e-01\n",
            "   8.66118008e-02 -1.74927167e-01  6.57146368e+00 -2.28712158e-01\n",
            "  -1.86002431e-01  1.59162411e+00 -1.70169343e-01  4.59913023e-01\n",
            "  -2.49659438e-01 -1.18171509e-01  3.02172646e+00 -7.74279511e-02\n",
            "  -3.28814669e-01 -2.99239934e-01 -2.27894812e-01 -2.31830156e-01\n",
            "  -1.66731450e-01 -2.25239518e-01 -1.60539307e-01 -1.43212021e-01\n",
            "  -1.74920257e-01 -1.45215148e-01 -1.98067390e-01 -2.42130222e-01\n",
            "  -3.23455613e-01 -5.98362369e-02 -1.80911344e-01 -1.38154797e-02\n",
            "  -1.20904684e-01 -1.72599962e-01  3.30229979e-01 -1.27343320e-01\n",
            "  -2.38462896e-01 -1.31527239e-01 -7.13879045e-02 -1.11546231e-01\n",
            "  -1.17376299e-01  1.46843883e-02 -1.55197675e-01  8.49594212e-03\n",
            "   4.40052793e-01 -7.97544228e-02  1.45920848e-01  2.22110599e+00\n",
            "   3.25873251e+00]\n",
            " [-3.42433707e-01 -1.65071912e-01 -5.56760578e-01 -4.68995838e-02\n",
            "   4.72572602e-01 -3.50266176e-01  5.00237130e-01  1.30840160e+00\n",
            "   7.89461606e-01  6.05856550e-01  1.24142825e+00 -2.68918880e-01\n",
            "   7.17834562e-01 -1.74927167e-01 -1.90114405e-01  7.40605288e-02\n",
            "  -3.21135414e-01 -3.47875919e-01  8.55016597e-01 -1.67893113e-01\n",
            "  -4.16231809e-01 -1.18171509e-01 -2.90209203e-01 -2.12994388e-01\n",
            "  -3.28814669e-01 -2.99239934e-01 -2.27894812e-01 -2.31830156e-01\n",
            "  -1.66731450e-01 -2.25239518e-01 -1.60539307e-01 -1.43212021e-01\n",
            "  -1.74920257e-01 -1.45215148e-01 -1.98067390e-01 -2.42130222e-01\n",
            "  -3.23455613e-01 -5.98362369e-02 -1.80911344e-01 -1.85303849e-01\n",
            "  -1.20904684e-01 -1.72599962e-01 -2.05993114e-01 -1.27343320e-01\n",
            "  -2.97776209e-01 -1.97387481e-01 -7.13879045e-02 -1.11546231e-01\n",
            "  -1.58453362e-01 -7.51103566e-03 -1.55197675e-01 -1.61934293e-01\n",
            "  -3.08354941e-01 -1.03048405e-01 -5.21501318e-02 -6.24661593e-02\n",
            "  -1.52221725e-01]\n",
            " [-3.42433707e-01 -1.65071912e-01 -5.56760578e-01 -4.68995838e-02\n",
            "   4.72572602e-01 -3.50266176e-01  5.00237130e-01  1.30840160e+00\n",
            "   7.89461606e-01  6.05856550e-01  1.24142825e+00 -2.68918880e-01\n",
            "   7.17834562e-01 -1.74927167e-01 -1.90114405e-01  7.40605288e-02\n",
            "  -3.21135414e-01 -3.47875919e-01  8.55016597e-01 -1.67893113e-01\n",
            "  -4.16231809e-01 -1.18171509e-01 -2.90209203e-01 -2.12994388e-01\n",
            "  -3.28814669e-01 -2.99239934e-01 -2.27894812e-01 -2.31830156e-01\n",
            "  -1.66731450e-01 -2.25239518e-01 -1.60539307e-01 -1.43212021e-01\n",
            "  -1.74920257e-01 -1.45215148e-01 -1.98067390e-01 -2.42130222e-01\n",
            "  -3.23455613e-01 -5.98362369e-02 -1.80911344e-01 -1.85303849e-01\n",
            "  -1.20904684e-01 -1.72599962e-01 -2.05993114e-01 -1.27343320e-01\n",
            "  -2.97776209e-01 -1.97387481e-01 -7.13879045e-02 -1.11546231e-01\n",
            "  -1.58453362e-01 -1.49095103e-02 -1.55197675e-01 -1.64386527e-01\n",
            "  -3.08354941e-01 -1.03048405e-01 -5.21501318e-02 -6.24661593e-02\n",
            "  -1.52221725e-01]\n",
            " [-3.42433707e-01 -1.65071912e-01 -5.56760578e-01 -4.68995838e-02\n",
            "   2.28686172e+00 -3.50266176e-01 -2.91793886e-01  4.35058422e+00\n",
            "  -3.23302359e-01 -3.71364386e-01 -2.96859527e-01 -6.28712594e-01\n",
            "  -3.12055206e-01 -1.74927167e-01 -1.90114405e-01 -3.01377603e-01\n",
            "  -3.21135414e-01 -3.47875919e-01 -9.36242354e-01 -1.67893113e-01\n",
            "  -6.74418985e-01 -1.18171509e-01 -2.90209203e-01 -2.12994388e-01\n",
            "  -3.28814669e-01 -2.99239934e-01 -2.27894812e-01 -2.31830156e-01\n",
            "  -1.66731450e-01 -2.25239518e-01 -1.60539307e-01 -1.43212021e-01\n",
            "  -1.74920257e-01 -1.45215148e-01 -1.98067390e-01 -2.42130222e-01\n",
            "  -3.23455613e-01 -5.98362369e-02 -1.80911344e-01 -1.85303849e-01\n",
            "  -1.20904684e-01 -1.72599962e-01 -2.05993114e-01 -1.27343320e-01\n",
            "  -2.97776209e-01 -1.97387481e-01 -7.13879045e-02 -1.11546231e-01\n",
            "  -1.58453362e-01  3.10623374e-01 -1.55197675e-01 -3.29912295e-01\n",
            "  -3.08354941e-01 -1.03048405e-01 -6.90763120e-02 -1.90756730e-01\n",
            "  -3.78189196e-01]\n",
            " [-3.42433707e-01 -1.65071912e-01 -5.56760578e-01 -4.68995838e-02\n",
            "   2.39096028e+00 -3.50266176e-01 -2.91793886e-01 -2.62561558e-01\n",
            "  -3.23302359e-01  6.21367993e-01  4.46687037e+00  8.56887259e-01\n",
            "  -3.12055206e-01 -1.74927167e-01 -1.90114405e-01  8.61269516e-01\n",
            "  -3.21135414e-01  2.54687196e-01  1.23242021e+00 -1.67893113e-01\n",
            "  -1.41387396e-01 -1.18171509e-01 -2.90209203e-01 -2.12994388e-01\n",
            "  -3.28814669e-01 -2.99239934e-01 -2.27894812e-01 -2.31830156e-01\n",
            "  -1.66731450e-01 -2.25239518e-01 -1.60539307e-01 -1.43212021e-01\n",
            "  -1.74920257e-01 -1.45215148e-01 -1.98067390e-01 -2.42130222e-01\n",
            "  -3.23455613e-01 -5.98362369e-02 -1.80911344e-01 -1.85303849e-01\n",
            "  -1.20904684e-01 -1.72599962e-01 -2.05993114e-01 -1.27343320e-01\n",
            "  -2.97776209e-01 -1.97387481e-01 -7.13879045e-02 -1.11546231e-01\n",
            "  -1.58453362e-01 -3.14547733e-01 -1.55197675e-01 -1.28829139e-01\n",
            "  -8.87135411e-02 -1.03048405e-01 -1.10966244e-01 -2.47204580e-01\n",
            "  -2.82524135e-01]\n",
            " [-3.42433707e-01 -1.65071912e-01 -5.56760578e-01 -4.68995838e-02\n",
            "   2.33147539e+00 -3.50266176e-01 -2.91793886e-01  4.42539198e+00\n",
            "  -3.23302359e-01 -3.71364386e-01 -2.96859527e-01 -6.28712594e-01\n",
            "  -3.12055206e-01 -1.74927167e-01 -1.90114405e-01 -3.01377603e-01\n",
            "  -3.21135414e-01 -3.47875919e-01 -9.36242354e-01 -1.67893113e-01\n",
            "  -6.74418985e-01 -1.18171509e-01 -2.90209203e-01 -2.12994388e-01\n",
            "  -3.28814669e-01 -2.99239934e-01 -2.27894812e-01 -2.31830156e-01\n",
            "  -1.66731450e-01 -2.25239518e-01 -1.60539307e-01 -1.43212021e-01\n",
            "  -1.74920257e-01 -1.45215148e-01 -1.98067390e-01 -2.42130222e-01\n",
            "  -3.23455613e-01 -5.98362369e-02 -1.80911344e-01 -1.85303849e-01\n",
            "  -1.20904684e-01 -1.72599962e-01 -2.05993114e-01 -1.27343320e-01\n",
            "  -2.97776209e-01 -1.97387481e-01 -7.13879045e-02 -1.11546231e-01\n",
            "  -1.58453362e-01  2.47736340e-01 -1.55197675e-01 -3.29912295e-01\n",
            "  -3.08354941e-01 -1.03048405e-01 -8.64122507e-02 -2.11283221e-01\n",
            "  -3.86436184e-01]\n",
            " [ 1.48847081e-01 -1.65071912e-01  3.55778331e-01 -4.68995838e-02\n",
            "   4.42830158e-01 -3.50266176e-01  4.74687742e-01 -2.62561558e-01\n",
            "   2.97909392e+00  8.07505314e-01  3.47442664e+00  4.39062301e-01\n",
            "  -3.12055206e-01 -1.74927167e-01 -1.90114405e-01 -3.01377603e-01\n",
            "  -3.21135414e-01 -6.54244590e-02 -2.43396910e-01  6.75759332e+00\n",
            "   9.91304729e-01 -1.18171509e-01 -2.90209203e-01  1.25921705e-01\n",
            "  -3.28814669e-01 -2.99239934e-01 -2.27894812e-01 -2.31830156e-01\n",
            "  -1.66731450e-01 -2.25239518e-01 -1.60539307e-01 -1.43212021e-01\n",
            "   9.49382775e-02 -1.45215148e-01 -1.98067390e-01 -2.42130222e-01\n",
            "  -3.23455613e-01 -5.98362369e-02 -1.80911344e-01 -1.85303849e-01\n",
            "  -1.20904684e-01 -1.72599962e-01  1.13456462e+00 -1.27343320e-01\n",
            "  -2.97776209e-01 -1.97387481e-01 -7.13879045e-02 -1.11546231e-01\n",
            "  -1.58453362e-01  4.88186766e-01 -1.55197675e-01 -1.07985154e-01\n",
            "   5.17334026e-01 -5.18016444e-02  1.43493817e-01  2.01584108e+00\n",
            "   1.60603612e+00]\n",
            " [-1.45921392e-01 -7.20800093e-02  9.70750204e-01 -4.68995838e-02\n",
            "  -1.81761179e-01  8.18494355e-01  6.79082843e-01 -2.62561558e-01\n",
            "  -1.07928688e-01 -3.71364386e-01 -2.96859527e-01  1.14087333e-01\n",
            "   5.18501058e-01 -1.74927167e-01  2.73536663e-01 -3.01377603e-01\n",
            "  -3.21135414e-01 -1.21914751e-01  4.45024003e-03 -5.01794624e-02\n",
            "  -8.30870664e-02 -1.18171509e-01  2.52263017e-01 -2.12994388e-01\n",
            "  -3.28814669e-01 -2.99239934e-01 -2.27894812e-01 -2.31830156e-01\n",
            "  -1.66731450e-01 -2.25239518e-01 -1.60539307e-01 -1.43212021e-01\n",
            "  -1.74920257e-01 -1.45215148e-01 -1.98067390e-01 -2.42130222e-01\n",
            "  -3.23455613e-01 -5.98362369e-02 -1.80911344e-01 -1.85303849e-01\n",
            "  -1.20904684e-01 -1.72599962e-01 -2.05993114e-01 -3.08660247e-02\n",
            "  -2.97776209e-01 -1.97387481e-01 -7.13879045e-02 -1.11546231e-01\n",
            "   5.85488751e-03 -4.03329429e-01 -1.55197675e-01 -3.07397955e-02\n",
            "   2.11071590e-02 -1.03048405e-01 -1.09138090e-01 -4.70712908e-02\n",
            "   7.68142136e-01]]\n",
            "y \n",
            " 0    1\n",
            "1    1\n",
            "2    1\n",
            "3    1\n",
            "4    1\n",
            "5    1\n",
            "6    1\n",
            "7    1\n",
            "8    1\n",
            "9    1\n",
            "Name: Spam, dtype: int64\n"
          ],
          "name": "stdout"
        }
      ]
    },
    {
      "cell_type": "markdown",
      "metadata": {
        "id": "olIaGhC_3rjk",
        "colab_type": "text"
      },
      "source": [
        "Split data"
      ]
    },
    {
      "cell_type": "markdown",
      "metadata": {
        "id": "MNDVyV-cT2MZ",
        "colab_type": "text"
      },
      "source": [
        "Split the data into training and testing sets with 8:2 ratio"
      ]
    },
    {
      "cell_type": "code",
      "metadata": {
        "id": "LVxmhfULmtbx",
        "colab_type": "code",
        "colab": {
          "base_uri": "https://localhost:8080/",
          "height": 84
        },
        "outputId": "45452c4a-32f5-4d9c-c06b-f31bdddfc3b5"
      },
      "source": [
        "from sklearn.model_selection import train_test_split\n",
        "X_train, X_test, y_train, y_test = train_test_split(X, y, test_size=0.2, random_state=44, shuffle =True)\n",
        "\n",
        "print('X_train shape is ' , X_train.shape)\n",
        "print('X_test shape is ' , X_test.shape)\n",
        "print('y_train shape is ' , y_train.shape)\n",
        "print('y_test shape is ' , y_test.shape)"
      ],
      "execution_count": 4,
      "outputs": [
        {
          "output_type": "stream",
          "text": [
            "X_train shape is  (3680, 57)\n",
            "X_test shape is  (921, 57)\n",
            "y_train shape is  (3680,)\n",
            "y_test shape is  (921,)\n"
          ],
          "name": "stdout"
        }
      ]
    },
    {
      "cell_type": "markdown",
      "metadata": {
        "id": "iolUCJuJ3u_X",
        "colab_type": "text"
      },
      "source": [
        "# Explantory Data Analysis"
      ]
    },
    {
      "cell_type": "markdown",
      "metadata": {
        "id": "cYYkOX-qSbHo",
        "colab_type": "text"
      },
      "source": [
        "nominal {0,1} class attribute of type spam denotes whether the e-mail was considered spam (1) or not (0) "
      ]
    },
    {
      "cell_type": "code",
      "metadata": {
        "id": "_RzEby7cmx8-",
        "colab_type": "code",
        "colab": {
          "base_uri": "https://localhost:8080/",
          "height": 274
        },
        "outputId": "0b942431-7553-40b0-f2da-21c94329e357"
      },
      "source": [
        "spam_or_not = data[\"Spam\"]\n",
        "spam_or_not.value_counts()\n",
        "spam_or_not.value_counts().plot(radius=1.2, kind=\"pie\", autopct='%1.1f%%', pctdistance=0.5, colors=[\"blue\", \"red\"])"
      ],
      "execution_count": 5,
      "outputs": [
        {
          "output_type": "execute_result",
          "data": {
            "text/plain": [
              "<matplotlib.axes._subplots.AxesSubplot at 0x7fe9bb0c27b8>"
            ]
          },
          "metadata": {
            "tags": []
          },
          "execution_count": 5
        },
        {
          "output_type": "display_data",
          "data": {
            "image/png": "[encoded data removed]",
            "text/plain": [
              "<Figure size 432x288 with 1 Axes>"
            ]
          },
          "metadata": {
            "tags": []
          }
        }
      ]
    },
    {
      "cell_type": "markdown",
      "metadata": {
        "id": "WTsswCYpT8gg",
        "colab_type": "text"
      },
      "source": [
        "39.4% of e-mails considered spam e-mails"
      ]
    },
    {
      "cell_type": "markdown",
      "metadata": {
        "id": "LXZFpigy4G2F",
        "colab_type": "text"
      },
      "source": [
        "# Model traning"
      ]
    },
    {
      "cell_type": "markdown",
      "metadata": {
        "id": "cSd1Pzof4NR0",
        "colab_type": "text"
      },
      "source": [
        "# 1 - Logistic regression model\n",
        "\n"
      ]
    },
    {
      "cell_type": "markdown",
      "metadata": {
        "id": "XAamxgw342Hz",
        "colab_type": "text"
      },
      "source": [
        "Import Libraries"
      ]
    },
    {
      "cell_type": "code",
      "metadata": {
        "id": "WbLVEP-u2T5S",
        "colab_type": "code",
        "colab": {}
      },
      "source": [
        "from sklearn.linear_model import LogisticRegression\n",
        "from sklearn.metrics import confusion_matrix\n",
        "import seaborn as sns\n",
        "import matplotlib.pyplot as plt\n",
        "from sklearn.metrics import accuracy_score\n",
        "from sklearn.metrics import f1_score\n",
        "from sklearn.metrics import roc_curve\n",
        "from sklearn.metrics import auc"
      ],
      "execution_count": 0,
      "outputs": []
    },
    {
      "cell_type": "markdown",
      "metadata": {
        "id": "P1QdBTCV6Hbn",
        "colab_type": "text"
      },
      "source": [
        "Applying LogisticRegression Model "
      ]
    },
    {
      "cell_type": "code",
      "metadata": {
        "id": "TB44IBs346nZ",
        "colab_type": "code",
        "colab": {
          "base_uri": "https://localhost:8080/",
          "height": 154
        },
        "outputId": "720c0854-665d-4d7b-a4e1-7a879b95912f"
      },
      "source": [
        "LogisticRegressionModel = LogisticRegression()\n",
        "LogisticRegressionModel.fit(X_train, y_train)"
      ],
      "execution_count": 7,
      "outputs": [
        {
          "output_type": "stream",
          "text": [
            "/usr/local/lib/python3.6/dist-packages/sklearn/linear_model/logistic.py:432: FutureWarning: Default solver will be changed to 'lbfgs' in 0.22. Specify a solver to silence this warning.\n",
            "  FutureWarning)\n"
          ],
          "name": "stderr"
        },
        {
          "output_type": "execute_result",
          "data": {
            "text/plain": [
              "LogisticRegression(C=1.0, class_weight=None, dual=False, fit_intercept=True,\n",
              "                   intercept_scaling=1, l1_ratio=None, max_iter=100,\n",
              "                   multi_class='warn', n_jobs=None, penalty='l2',\n",
              "                   random_state=None, solver='warn', tol=0.0001, verbose=0,\n",
              "                   warm_start=False)"
            ]
          },
          "metadata": {
            "tags": []
          },
          "execution_count": 7
        }
      ]
    },
    {
      "cell_type": "markdown",
      "metadata": {
        "id": "fqWzflMu6Qof",
        "colab_type": "text"
      },
      "source": [
        "Calculating Prediction"
      ]
    },
    {
      "cell_type": "code",
      "metadata": {
        "id": "UIWylJfp5M70",
        "colab_type": "code",
        "colab": {
          "base_uri": "https://localhost:8080/",
          "height": 34
        },
        "outputId": "f8b0e0de-94ec-40a1-aeab-fa599b059378"
      },
      "source": [
        "y_pred = LogisticRegressionModel.predict(X_test)\n",
        "y_pred_prob = LogisticRegressionModel.predict_proba(X_test)\n",
        "print('Predicted Value for LogisticRegressionModel is : ' , y_pred[:1])"
      ],
      "execution_count": 8,
      "outputs": [
        {
          "output_type": "stream",
          "text": [
            "Predicted Value for LogisticRegressionModel is :  [0]\n"
          ],
          "name": "stdout"
        }
      ]
    },
    {
      "cell_type": "markdown",
      "metadata": {
        "id": "X_i_hxP06V2_",
        "colab_type": "text"
      },
      "source": [
        "Calculating Confusion Matrix"
      ]
    },
    {
      "cell_type": "code",
      "metadata": {
        "id": "G1SYOQqV5Qo2",
        "colab_type": "code",
        "colab": {
          "base_uri": "https://localhost:8080/",
          "height": 67
        },
        "outputId": "bf23fc15-7f5e-4480-db30-1be76308cf59"
      },
      "source": [
        "CM = confusion_matrix(y_test, y_pred)\n",
        "print('Confusion Matrix is : \\n', CM)"
      ],
      "execution_count": 9,
      "outputs": [
        {
          "output_type": "stream",
          "text": [
            "Confusion Matrix is : \n",
            " [[536  26]\n",
            " [ 43 316]]\n"
          ],
          "name": "stdout"
        }
      ]
    },
    {
      "cell_type": "markdown",
      "metadata": {
        "id": "lESUrTYC6aBg",
        "colab_type": "text"
      },
      "source": [
        "drawing confusion matrix"
      ]
    },
    {
      "cell_type": "code",
      "metadata": {
        "id": "MTjy08P85aZ6",
        "colab_type": "code",
        "colab": {
          "base_uri": "https://localhost:8080/",
          "height": 265
        },
        "outputId": "64d1cf3a-c6ad-4518-8fe0-39caaf470ff3"
      },
      "source": [
        "sns.heatmap(CM, center = True)\n",
        "plt.show()"
      ],
      "execution_count": 10,
      "outputs": [
        {
          "output_type": "display_data",
          "data": {
            "image/png": "[encoded data removed]",
            "text/plain": [
              "<Figure size 432x288 with 2 Axes>"
            ]
          },
          "metadata": {
            "tags": []
          }
        }
      ]
    },
    {
      "cell_type": "markdown",
      "metadata": {
        "id": "UsMQh36v6eOJ",
        "colab_type": "text"
      },
      "source": [
        "Calculating Accuracy Score  : ((TP + TN) / float(TP + TN + FP + FN))"
      ]
    },
    {
      "cell_type": "code",
      "metadata": {
        "id": "1MehRaf45dXJ",
        "colab_type": "code",
        "colab": {
          "base_uri": "https://localhost:8080/",
          "height": 34
        },
        "outputId": "0cf11181-fb76-44ce-9af7-27df4c4cd57d"
      },
      "source": [
        "AccScore = accuracy_score(y_test, y_pred, normalize=False)\n",
        "print('Accuracy Score is : ', AccScore)"
      ],
      "execution_count": 11,
      "outputs": [
        {
          "output_type": "stream",
          "text": [
            "Accuracy Score is :  852\n"
          ],
          "name": "stdout"
        }
      ]
    },
    {
      "cell_type": "markdown",
      "metadata": {
        "id": "uN19EtKZ6qh6",
        "colab_type": "text"
      },
      "source": [
        "Calculating Area Under the Curve "
      ]
    },
    {
      "cell_type": "code",
      "metadata": {
        "id": "QhWsPR0m5qUw",
        "colab_type": "code",
        "colab": {
          "base_uri": "https://localhost:8080/",
          "height": 34
        },
        "outputId": "7b62c7f5-14f9-4f9b-9caa-f090511f55b9"
      },
      "source": [
        "fprValue2, tprValue2, thresholdsValue2 = roc_curve(y_test,y_pred)\n",
        "AUCValue = auc(fprValue2, tprValue2)\n",
        "print('AUC Value  : ', AUCValue)"
      ],
      "execution_count": 12,
      "outputs": [
        {
          "output_type": "stream",
          "text": [
            "AUC Value  :  0.9169797480149486\n"
          ],
          "name": "stdout"
        }
      ]
    },
    {
      "cell_type": "markdown",
      "metadata": {
        "id": "cneFsvIJ6yaF",
        "colab_type": "text"
      },
      "source": [
        "Ploting the (ROC Curve)"
      ]
    },
    {
      "cell_type": "code",
      "metadata": {
        "id": "QANtFysO5ueW",
        "colab_type": "code",
        "colab": {
          "base_uri": "https://localhost:8080/",
          "height": 312
        },
        "outputId": "9d377545-9bd8-4894-bba3-181a7f9315d2"
      },
      "source": [
        "plt.title('Receiver Operating Characteristic (The ROC cruve)')\n",
        "plt.plot(fprValue2, tprValue2, 'b', label = 'AUC = %0.2f' % AUCValue)\n",
        "plt.legend(loc = 'lower right')\n",
        "plt.plot([0, 1], [0, 1],'r--')\n",
        "plt.xlim([0, 1])\n",
        "plt.ylim([0, 1])\n",
        "plt.ylabel('True Positive Rate')\n",
        "plt.xlabel('False Positive Rate')"
      ],
      "execution_count": 13,
      "outputs": [
        {
          "output_type": "execute_result",
          "data": {
            "text/plain": [
              "Text(0.5, 0, 'False Positive Rate')"
            ]
          },
          "metadata": {
            "tags": []
          },
          "execution_count": 13
        },
        {
          "output_type": "display_data",
          "data": {
            "image/png": "[encoded data removed]",
            "text/plain": [
              "<Figure size 432x288 with 1 Axes>"
            ]
          },
          "metadata": {
            "tags": []
          }
        }
      ]
    },
    {
      "cell_type": "markdown",
      "metadata": {
        "colab_type": "text",
        "id": "huDp8vXV7Frk"
      },
      "source": [
        "# 2 - SVC Model \n",
        "\n"
      ]
    },
    {
      "cell_type": "markdown",
      "metadata": {
        "colab_type": "text",
        "id": "sbEQdwv87a3j"
      },
      "source": [
        "Import Libraries"
      ]
    },
    {
      "cell_type": "code",
      "metadata": {
        "id": "34dsrHDE5yge",
        "colab_type": "code",
        "colab": {}
      },
      "source": [
        "from sklearn.svm import SVC"
      ],
      "execution_count": 0,
      "outputs": []
    },
    {
      "cell_type": "markdown",
      "metadata": {
        "id": "f2EtFS_N7mFf",
        "colab_type": "text"
      },
      "source": [
        "Applying SVC Model"
      ]
    },
    {
      "cell_type": "code",
      "metadata": {
        "id": "Yd2gBVGn7gms",
        "colab_type": "code",
        "colab": {
          "base_uri": "https://localhost:8080/",
          "height": 138
        },
        "outputId": "0e089f36-7d82-4571-e0a7-b0bbeab62c4f"
      },
      "source": [
        "SVCModel = SVC(kernel= 'rbf',# it can be also linear,poly,sigmoid,precomputed\n",
        "               max_iter=1000,C=1.0,gamma='auto')\n",
        "SVCModel.fit(X_train, y_train)"
      ],
      "execution_count": 15,
      "outputs": [
        {
          "output_type": "stream",
          "text": [
            "/usr/local/lib/python3.6/dist-packages/sklearn/svm/base.py:241: ConvergenceWarning: Solver terminated early (max_iter=1000).  Consider pre-processing your data with StandardScaler or MinMaxScaler.\n",
            "  % self.max_iter, ConvergenceWarning)\n"
          ],
          "name": "stderr"
        },
        {
          "output_type": "execute_result",
          "data": {
            "text/plain": [
              "SVC(C=1.0, cache_size=200, class_weight=None, coef0=0.0,\n",
              "    decision_function_shape='ovr', degree=3, gamma='auto', kernel='rbf',\n",
              "    max_iter=1000, probability=False, random_state=None, shrinking=True,\n",
              "    tol=0.001, verbose=False)"
            ]
          },
          "metadata": {
            "tags": []
          },
          "execution_count": 15
        }
      ]
    },
    {
      "cell_type": "markdown",
      "metadata": {
        "id": "Rd8GSLn-8DoE",
        "colab_type": "text"
      },
      "source": [
        "Calculating Prediction"
      ]
    },
    {
      "cell_type": "code",
      "metadata": {
        "id": "GShL1kv775Ah",
        "colab_type": "code",
        "colab": {
          "base_uri": "https://localhost:8080/",
          "height": 34
        },
        "outputId": "262a0d40-f669-4d7b-aef3-76db9e0f3fe9"
      },
      "source": [
        "y_pred = SVCModel.predict(X_test)\n",
        "print('Predicted Value for SVCModel is : ' , y_pred[:1])"
      ],
      "execution_count": 16,
      "outputs": [
        {
          "output_type": "stream",
          "text": [
            "Predicted Value for SVCModel is :  [0]\n"
          ],
          "name": "stdout"
        }
      ]
    },
    {
      "cell_type": "markdown",
      "metadata": {
        "colab_type": "text",
        "id": "ygx-1cIs9HDN"
      },
      "source": [
        "Calculating Confusion Matrix"
      ]
    },
    {
      "cell_type": "code",
      "metadata": {
        "id": "DHTl1-Gj8muE",
        "colab_type": "code",
        "colab": {
          "base_uri": "https://localhost:8080/",
          "height": 67
        },
        "outputId": "794b48bc-4cb1-4a43-b57d-0f21e28e9442"
      },
      "source": [
        "CM = confusion_matrix(y_test, y_pred)\n",
        "print('Confusion Matrix is : \\n', CM)"
      ],
      "execution_count": 17,
      "outputs": [
        {
          "output_type": "stream",
          "text": [
            "Confusion Matrix is : \n",
            " [[539  23]\n",
            " [ 38 321]]\n"
          ],
          "name": "stdout"
        }
      ]
    },
    {
      "cell_type": "markdown",
      "metadata": {
        "id": "XucwuCIw9I5b",
        "colab_type": "text"
      },
      "source": [
        "drawing confusion matrix"
      ]
    },
    {
      "cell_type": "code",
      "metadata": {
        "id": "uTPSXVyw8si0",
        "colab_type": "code",
        "colab": {
          "base_uri": "https://localhost:8080/",
          "height": 265
        },
        "outputId": "c1313360-faa5-4d70-b5c5-58f19ec3c809"
      },
      "source": [
        "sns.heatmap(CM, center = True)\n",
        "plt.show()"
      ],
      "execution_count": 18,
      "outputs": [
        {
          "output_type": "display_data",
          "data": {
            "image/png": "[encoded data removed]",
            "text/plain": [
              "<Figure size 432x288 with 2 Axes>"
            ]
          },
          "metadata": {
            "tags": []
          }
        }
      ]
    },
    {
      "cell_type": "markdown",
      "metadata": {
        "id": "aUVwiF3M9Ojd",
        "colab_type": "text"
      },
      "source": [
        "Calculating Accuracy Score : ((TP + TN) / float(TP + TN + FP + FN))"
      ]
    },
    {
      "cell_type": "code",
      "metadata": {
        "id": "L9yw5CpH8yjN",
        "colab_type": "code",
        "colab": {
          "base_uri": "https://localhost:8080/",
          "height": 34
        },
        "outputId": "416c2128-5652-4d9f-8f02-a08a3e40eafb"
      },
      "source": [
        "AccScore = accuracy_score(y_test, y_pred, normalize=False)\n",
        "print('Accuracy Score is : ', AccScore)"
      ],
      "execution_count": 19,
      "outputs": [
        {
          "output_type": "stream",
          "text": [
            "Accuracy Score is :  860\n"
          ],
          "name": "stdout"
        }
      ]
    },
    {
      "cell_type": "markdown",
      "metadata": {
        "id": "mIh9RaU19gK4",
        "colab_type": "text"
      },
      "source": [
        "Calculating Area Under the Curve"
      ]
    },
    {
      "cell_type": "code",
      "metadata": {
        "id": "KVeUhO-u87FD",
        "colab_type": "code",
        "colab": {
          "base_uri": "https://localhost:8080/",
          "height": 34
        },
        "outputId": "5764faca-c000-4ea6-bf8f-ef6eaf0bd631"
      },
      "source": [
        "fprValue2, tprValue2, thresholdsValue2 = roc_curve(y_test,y_pred)\n",
        "AUCValue = auc(fprValue2, tprValue2)\n",
        "print('AUC Value  : ', AUCValue)"
      ],
      "execution_count": 20,
      "outputs": [
        {
          "output_type": "stream",
          "text": [
            "AUC Value  :  0.9266125754616917\n"
          ],
          "name": "stdout"
        }
      ]
    },
    {
      "cell_type": "markdown",
      "metadata": {
        "id": "NEcTyXsG9lon",
        "colab_type": "text"
      },
      "source": [
        "Ploting the (ROC Curve)"
      ]
    },
    {
      "cell_type": "code",
      "metadata": {
        "id": "UKbJ7Mgo8_am",
        "colab_type": "code",
        "colab": {
          "base_uri": "https://localhost:8080/",
          "height": 312
        },
        "outputId": "d3648123-7f80-4809-e598-e635f373f212"
      },
      "source": [
        "plt.title('Receiver Operating Characteristic (The ROC cruve)')\n",
        "plt.plot(fprValue2, tprValue2, 'b', label = 'AUC = %0.2f' % AUCValue)\n",
        "plt.legend(loc = 'lower right')\n",
        "plt.plot([0, 1], [0, 1],'r--')\n",
        "plt.xlim([0, 1])\n",
        "plt.ylim([0, 1])\n",
        "plt.ylabel('True Positive Rate')\n",
        "plt.xlabel('False Positive Rate')"
      ],
      "execution_count": 21,
      "outputs": [
        {
          "output_type": "execute_result",
          "data": {
            "text/plain": [
              "Text(0.5, 0, 'False Positive Rate')"
            ]
          },
          "metadata": {
            "tags": []
          },
          "execution_count": 21
        },
        {
          "output_type": "display_data",
          "data": {
            "image/png": "[encoded data removed]",
            "text/plain": [
              "<Figure size 432x288 with 1 Axes>"
            ]
          },
          "metadata": {
            "tags": []
          }
        }
      ]
    },
    {
      "cell_type": "markdown",
      "metadata": {
        "id": "DIBSbunk9rdX",
        "colab_type": "text"
      },
      "source": [
        "# 3 - Decision Tree Classifier"
      ]
    },
    {
      "cell_type": "markdown",
      "metadata": {
        "colab_type": "text",
        "id": "xVzFPD-nCpRB"
      },
      "source": [
        "Import Libraries"
      ]
    },
    {
      "cell_type": "code",
      "metadata": {
        "id": "AZaI_aRC96K-",
        "colab_type": "code",
        "colab": {}
      },
      "source": [
        "from sklearn.tree import DecisionTreeClassifier"
      ],
      "execution_count": 0,
      "outputs": []
    },
    {
      "cell_type": "markdown",
      "metadata": {
        "id": "tvjBrzLiC3FU",
        "colab_type": "text"
      },
      "source": [
        "Applying DecisionTreeClassifier Model"
      ]
    },
    {
      "cell_type": "code",
      "metadata": {
        "id": "CeLBMVbQ-Jff",
        "colab_type": "code",
        "colab": {
          "base_uri": "https://localhost:8080/",
          "height": 118
        },
        "outputId": "1b1c072d-872f-420d-a438-672ba38368fb"
      },
      "source": [
        "DecisionTreeClassifierModel = DecisionTreeClassifier(criterion='gini',max_depth=3,random_state=33) #criterion can be entropy\n",
        "DecisionTreeClassifierModel.fit(X_train, y_train)"
      ],
      "execution_count": 23,
      "outputs": [
        {
          "output_type": "execute_result",
          "data": {
            "text/plain": [
              "DecisionTreeClassifier(class_weight=None, criterion='gini', max_depth=3,\n",
              "                       max_features=None, max_leaf_nodes=None,\n",
              "                       min_impurity_decrease=0.0, min_impurity_split=None,\n",
              "                       min_samples_leaf=1, min_samples_split=2,\n",
              "                       min_weight_fraction_leaf=0.0, presort=False,\n",
              "                       random_state=33, splitter='best')"
            ]
          },
          "metadata": {
            "tags": []
          },
          "execution_count": 23
        }
      ]
    },
    {
      "cell_type": "markdown",
      "metadata": {
        "id": "jRu-dezBEbL6",
        "colab_type": "text"
      },
      "source": [
        "Calculating Prediction"
      ]
    },
    {
      "cell_type": "code",
      "metadata": {
        "id": "nRDm8ebm-Jaw",
        "colab_type": "code",
        "colab": {
          "base_uri": "https://localhost:8080/",
          "height": 34
        },
        "outputId": "a14c9b42-0fa4-44a7-895d-48dc280eb9b2"
      },
      "source": [
        "y_pred = DecisionTreeClassifierModel.predict(X_test)\n",
        "y_pred_prob = DecisionTreeClassifierModel.predict_proba(X_test)\n",
        "print('Predicted Value for DecisionTreeClassifierModel is : ' , y_pred[:1])"
      ],
      "execution_count": 24,
      "outputs": [
        {
          "output_type": "stream",
          "text": [
            "Predicted Value for DecisionTreeClassifierModel is :  [0]\n"
          ],
          "name": "stdout"
        }
      ]
    },
    {
      "cell_type": "markdown",
      "metadata": {
        "id": "wHWOx_7fEfaa",
        "colab_type": "text"
      },
      "source": [
        "Calculating Confusion Matrix"
      ]
    },
    {
      "cell_type": "code",
      "metadata": {
        "id": "wg0U_RtH-JYK",
        "colab_type": "code",
        "colab": {
          "base_uri": "https://localhost:8080/",
          "height": 67
        },
        "outputId": "62cc7ec5-8245-452c-963b-710b496ae8dc"
      },
      "source": [
        "CM = confusion_matrix(y_test, y_pred)\n",
        "print('Confusion Matrix is : \\n', CM)"
      ],
      "execution_count": 25,
      "outputs": [
        {
          "output_type": "stream",
          "text": [
            "Confusion Matrix is : \n",
            " [[512  50]\n",
            " [ 56 303]]\n"
          ],
          "name": "stdout"
        }
      ]
    },
    {
      "cell_type": "markdown",
      "metadata": {
        "id": "tMoTobyVEmoQ",
        "colab_type": "text"
      },
      "source": [
        "drawing confusion matrix"
      ]
    },
    {
      "cell_type": "code",
      "metadata": {
        "id": "7Rv4S32c-JVh",
        "colab_type": "code",
        "colab": {
          "base_uri": "https://localhost:8080/",
          "height": 265
        },
        "outputId": "bd118fbc-b608-4adc-dbae-a0f89ff10af9"
      },
      "source": [
        "sns.heatmap(CM, center = True)\n",
        "plt.show()"
      ],
      "execution_count": 26,
      "outputs": [
        {
          "output_type": "display_data",
          "data": {
            "image/png": "[encoded data removed]",
            "text/plain": [
              "<Figure size 432x288 with 2 Axes>"
            ]
          },
          "metadata": {
            "tags": []
          }
        }
      ]
    },
    {
      "cell_type": "markdown",
      "metadata": {
        "id": "vJJYU7N9EqjG",
        "colab_type": "text"
      },
      "source": [
        "Calculating Accuracy Score  : ((TP + TN) / float(TP + TN + FP + FN))"
      ]
    },
    {
      "cell_type": "code",
      "metadata": {
        "id": "Mqc_2PoU-JTS",
        "colab_type": "code",
        "colab": {
          "base_uri": "https://localhost:8080/",
          "height": 34
        },
        "outputId": "0860d4da-59be-40c2-960f-6b7fbfc560bd"
      },
      "source": [
        "AccScore = accuracy_score(y_test, y_pred, normalize=False)\n",
        "print('Accuracy Score is : ', AccScore)"
      ],
      "execution_count": 27,
      "outputs": [
        {
          "output_type": "stream",
          "text": [
            "Accuracy Score is :  815\n"
          ],
          "name": "stdout"
        }
      ]
    },
    {
      "cell_type": "markdown",
      "metadata": {
        "id": "SkGHEPczE16O",
        "colab_type": "text"
      },
      "source": [
        "Calculating Area Under the Curve"
      ]
    },
    {
      "cell_type": "code",
      "metadata": {
        "id": "thDSKf3H-JNK",
        "colab_type": "code",
        "colab": {
          "base_uri": "https://localhost:8080/",
          "height": 34
        },
        "outputId": "5d9d6cbe-a259-4f02-8ca9-154ef8e125f9"
      },
      "source": [
        "fprValue2, tprValue2, thresholdsValue2 = roc_curve(y_test,y_pred)\n",
        "AUCValue = auc(fprValue2, tprValue2)\n",
        "print('AUC Value  : ', AUCValue)"
      ],
      "execution_count": 28,
      "outputs": [
        {
          "output_type": "stream",
          "text": [
            "AUC Value  :  0.8775215852655162\n"
          ],
          "name": "stdout"
        }
      ]
    },
    {
      "cell_type": "markdown",
      "metadata": {
        "id": "0Hq-zjJ5E3H2",
        "colab_type": "text"
      },
      "source": [
        "Ploting the (ROC Curve)"
      ]
    },
    {
      "cell_type": "code",
      "metadata": {
        "id": "4fvxhwpo-JJY",
        "colab_type": "code",
        "colab": {
          "base_uri": "https://localhost:8080/",
          "height": 312
        },
        "outputId": "7e9918ab-1247-40e1-bf49-0457b512bef9"
      },
      "source": [
        "plt.title('Receiver Operating Characteristic (The ROC cruve)')\n",
        "plt.plot(fprValue2, tprValue2, 'b', label = 'AUC = %0.2f' % AUCValue)\n",
        "plt.legend(loc = 'lower right')\n",
        "plt.plot([0, 1], [0, 1],'r--')\n",
        "plt.xlim([0, 1])\n",
        "plt.ylim([0, 1])\n",
        "plt.ylabel('True Positive Rate')\n",
        "plt.xlabel('False Positive Rate')"
      ],
      "execution_count": 29,
      "outputs": [
        {
          "output_type": "execute_result",
          "data": {
            "text/plain": [
              "Text(0.5, 0, 'False Positive Rate')"
            ]
          },
          "metadata": {
            "tags": []
          },
          "execution_count": 29
        },
        {
          "output_type": "display_data",
          "data": {
            "image/png": "[encoded data removed]",
            "text/plain": [
              "<Figure size 432x288 with 1 Axes>"
            ]
          },
          "metadata": {
            "tags": []
          }
        }
      ]
    },
    {
      "cell_type": "markdown",
      "metadata": {
        "id": "EvUmlnEH-4wq",
        "colab_type": "text"
      },
      "source": [
        "# 4 - Random Forest Classifier Model "
      ]
    },
    {
      "cell_type": "markdown",
      "metadata": {
        "id": "gAF7B9zyFNFs",
        "colab_type": "text"
      },
      "source": [
        "Import Libraries"
      ]
    },
    {
      "cell_type": "code",
      "metadata": {
        "id": "g2Gx-bMQ-1j8",
        "colab_type": "code",
        "colab": {}
      },
      "source": [
        "from sklearn.ensemble import RandomForestClassifier"
      ],
      "execution_count": 0,
      "outputs": []
    },
    {
      "cell_type": "markdown",
      "metadata": {
        "id": "P5tFGct8FL7q",
        "colab_type": "text"
      },
      "source": [
        "Applying RandomForestClassifier Model "
      ]
    },
    {
      "cell_type": "code",
      "metadata": {
        "id": "aCiH3nyK-1g7",
        "colab_type": "code",
        "colab": {
          "base_uri": "https://localhost:8080/",
          "height": 134
        },
        "outputId": "620bd919-a089-4fcd-b451-16e6b57399b4"
      },
      "source": [
        "RandomForestClassifierModel = RandomForestClassifier(criterion = 'gini',n_estimators=100,max_depth=2,random_state=33) #criterion can be also : entropy \n",
        "RandomForestClassifierModel.fit(X_train, y_train)"
      ],
      "execution_count": 31,
      "outputs": [
        {
          "output_type": "execute_result",
          "data": {
            "text/plain": [
              "RandomForestClassifier(bootstrap=True, class_weight=None, criterion='gini',\n",
              "                       max_depth=2, max_features='auto', max_leaf_nodes=None,\n",
              "                       min_impurity_decrease=0.0, min_impurity_split=None,\n",
              "                       min_samples_leaf=1, min_samples_split=2,\n",
              "                       min_weight_fraction_leaf=0.0, n_estimators=100,\n",
              "                       n_jobs=None, oob_score=False, random_state=33, verbose=0,\n",
              "                       warm_start=False)"
            ]
          },
          "metadata": {
            "tags": []
          },
          "execution_count": 31
        }
      ]
    },
    {
      "cell_type": "markdown",
      "metadata": {
        "id": "ik5E0BkiFRHH",
        "colab_type": "text"
      },
      "source": [
        "Calculating Prediction"
      ]
    },
    {
      "cell_type": "code",
      "metadata": {
        "id": "TKKJYZfY-1Th",
        "colab_type": "code",
        "colab": {
          "base_uri": "https://localhost:8080/",
          "height": 34
        },
        "outputId": "475efefd-5da4-46e8-c527-1378c1264f6e"
      },
      "source": [
        "y_pred = RandomForestClassifierModel.predict(X_test)\n",
        "y_pred_prob = RandomForestClassifierModel.predict_proba(X_test)\n",
        "print('Predicted Value for RandomForestClassifierModel is : ' , y_pred[:1])"
      ],
      "execution_count": 32,
      "outputs": [
        {
          "output_type": "stream",
          "text": [
            "Predicted Value for RandomForestClassifierModel is :  [0]\n"
          ],
          "name": "stdout"
        }
      ]
    },
    {
      "cell_type": "markdown",
      "metadata": {
        "id": "rv7wgVCvFVRT",
        "colab_type": "text"
      },
      "source": [
        "Calculating Confusion Matrix"
      ]
    },
    {
      "cell_type": "code",
      "metadata": {
        "id": "GBMbNJsY-1QR",
        "colab_type": "code",
        "colab": {
          "base_uri": "https://localhost:8080/",
          "height": 67
        },
        "outputId": "009488ed-f116-404f-9e79-318208cb2008"
      },
      "source": [
        "CM = confusion_matrix(y_test, y_pred)\n",
        "print('Confusion Matrix is : \\n', CM)"
      ],
      "execution_count": 33,
      "outputs": [
        {
          "output_type": "stream",
          "text": [
            "Confusion Matrix is : \n",
            " [[554   8]\n",
            " [ 89 270]]\n"
          ],
          "name": "stdout"
        }
      ]
    },
    {
      "cell_type": "markdown",
      "metadata": {
        "id": "E0R-c9hrFZGF",
        "colab_type": "text"
      },
      "source": [
        "drawing confusion matrix"
      ]
    },
    {
      "cell_type": "code",
      "metadata": {
        "id": "z5JZFoiA-1NG",
        "colab_type": "code",
        "colab": {
          "base_uri": "https://localhost:8080/",
          "height": 265
        },
        "outputId": "ff2db76d-ea01-4feb-d2be-ccf7f73ac928"
      },
      "source": [
        "sns.heatmap(CM, center = True)\n",
        "plt.show()"
      ],
      "execution_count": 34,
      "outputs": [
        {
          "output_type": "display_data",
          "data": {
            "image/png": "[encoded data removed]",
            "text/plain": [
              "<Figure size 432x288 with 2 Axes>"
            ]
          },
          "metadata": {
            "tags": []
          }
        }
      ]
    },
    {
      "cell_type": "markdown",
      "metadata": {
        "id": "Z8QuP0RqFdfu",
        "colab_type": "text"
      },
      "source": [
        "Calculating Accuracy Score  : ((TP + TN) / float(TP + TN + FP + FN))"
      ]
    },
    {
      "cell_type": "code",
      "metadata": {
        "id": "46VD81ER-1KG",
        "colab_type": "code",
        "colab": {
          "base_uri": "https://localhost:8080/",
          "height": 34
        },
        "outputId": "dd65a486-2248-4991-990d-12656812977c"
      },
      "source": [
        "AccScore = accuracy_score(y_test, y_pred, normalize=False)\n",
        "print('Accuracy Score is : ', AccScore)"
      ],
      "execution_count": 35,
      "outputs": [
        {
          "output_type": "stream",
          "text": [
            "Accuracy Score is :  824\n"
          ],
          "name": "stdout"
        }
      ]
    },
    {
      "cell_type": "markdown",
      "metadata": {
        "id": "-wdU2Vb4Fi-r",
        "colab_type": "text"
      },
      "source": [
        "Calculating Area Under the Curve"
      ]
    },
    {
      "cell_type": "code",
      "metadata": {
        "id": "IexO5JW5-1Ee",
        "colab_type": "code",
        "colab": {
          "base_uri": "https://localhost:8080/",
          "height": 34
        },
        "outputId": "868881fe-607f-48f5-fdb9-53316ba38b3d"
      },
      "source": [
        "fprValue2, tprValue2, thresholdsValue2 = roc_curve(y_test,y_pred)\n",
        "AUCValue = auc(fprValue2, tprValue2)\n",
        "print('AUC Value  : ', AUCValue)"
      ],
      "execution_count": 36,
      "outputs": [
        {
          "output_type": "stream",
          "text": [
            "AUC Value  :  0.8689271305227054\n"
          ],
          "name": "stdout"
        }
      ]
    },
    {
      "cell_type": "markdown",
      "metadata": {
        "id": "TQ_oOnKcFmRa",
        "colab_type": "text"
      },
      "source": [
        "Ploting the (ROC Curve)"
      ]
    },
    {
      "cell_type": "code",
      "metadata": {
        "id": "XkDEH7Ki-1Br",
        "colab_type": "code",
        "colab": {
          "base_uri": "https://localhost:8080/",
          "height": 312
        },
        "outputId": "5a350aa0-6a41-424f-defb-6f417513c3f2"
      },
      "source": [
        "plt.title('Receiver Operating Characteristic (The ROC cruve)')\n",
        "plt.plot(fprValue2, tprValue2, 'b', label = 'AUC = %0.2f' % AUCValue)\n",
        "plt.legend(loc = 'lower right')\n",
        "plt.plot([0, 1], [0, 1],'r--')\n",
        "plt.xlim([0, 1])\n",
        "plt.ylim([0, 1])\n",
        "plt.ylabel('True Positive Rate')\n",
        "plt.xlabel('False Positive Rate')"
      ],
      "execution_count": 37,
      "outputs": [
        {
          "output_type": "execute_result",
          "data": {
            "text/plain": [
              "Text(0.5, 0, 'False Positive Rate')"
            ]
          },
          "metadata": {
            "tags": []
          },
          "execution_count": 37
        },
        {
          "output_type": "display_data",
          "data": {
            "image/png": "[encoded data removed]",
            "text/plain": [
              "<Figure size 432x288 with 1 Axes>"
            ]
          },
          "metadata": {
            "tags": []
          }
        }
      ]
    },
    {
      "cell_type": "markdown",
      "metadata": {
        "id": "jKoGOt9o_5Ds",
        "colab_type": "text"
      },
      "source": [
        "# 5 - Gradient Boosting Classifier Model"
      ]
    },
    {
      "cell_type": "markdown",
      "metadata": {
        "id": "gn2IzrSZF_rh",
        "colab_type": "text"
      },
      "source": [
        "Import Libraries"
      ]
    },
    {
      "cell_type": "code",
      "metadata": {
        "id": "BMuAje1X-073",
        "colab_type": "code",
        "colab": {}
      },
      "source": [
        "from sklearn.ensemble import GradientBoostingClassifier"
      ],
      "execution_count": 0,
      "outputs": []
    },
    {
      "cell_type": "markdown",
      "metadata": {
        "id": "o4taWaaDGDmt",
        "colab_type": "text"
      },
      "source": [
        "Applying GradientBoostingClassifier Model "
      ]
    },
    {
      "cell_type": "code",
      "metadata": {
        "id": "uWNcaVAb-0dj",
        "colab_type": "code",
        "colab": {
          "base_uri": "https://localhost:8080/",
          "height": 185
        },
        "outputId": "53f6c15c-4d92-436b-f457-a5fe7cb11160"
      },
      "source": [
        "GBCModel = GradientBoostingClassifier(n_estimators=100,max_depth=3,random_state=33) \n",
        "GBCModel.fit(X_train, y_train)"
      ],
      "execution_count": 39,
      "outputs": [
        {
          "output_type": "execute_result",
          "data": {
            "text/plain": [
              "GradientBoostingClassifier(criterion='friedman_mse', init=None,\n",
              "                           learning_rate=0.1, loss='deviance', max_depth=3,\n",
              "                           max_features=None, max_leaf_nodes=None,\n",
              "                           min_impurity_decrease=0.0, min_impurity_split=None,\n",
              "                           min_samples_leaf=1, min_samples_split=2,\n",
              "                           min_weight_fraction_leaf=0.0, n_estimators=100,\n",
              "                           n_iter_no_change=None, presort='auto',\n",
              "                           random_state=33, subsample=1.0, tol=0.0001,\n",
              "                           validation_fraction=0.1, verbose=0,\n",
              "                           warm_start=False)"
            ]
          },
          "metadata": {
            "tags": []
          },
          "execution_count": 39
        }
      ]
    },
    {
      "cell_type": "markdown",
      "metadata": {
        "id": "fEBDDfLLGHcR",
        "colab_type": "text"
      },
      "source": [
        "Calculating Prediction"
      ]
    },
    {
      "cell_type": "code",
      "metadata": {
        "id": "retIOgam-IyV",
        "colab_type": "code",
        "colab": {
          "base_uri": "https://localhost:8080/",
          "height": 34
        },
        "outputId": "8a0ccf2e-be72-43b7-d1a9-42f36a4441ed"
      },
      "source": [
        "y_pred = GBCModel.predict(X_test)\n",
        "y_pred_prob = GBCModel.predict_proba(X_test)\n",
        "print('Predicted Value for GBCModel is : ' , y_pred[:1])"
      ],
      "execution_count": 40,
      "outputs": [
        {
          "output_type": "stream",
          "text": [
            "Predicted Value for GBCModel is :  [0]\n"
          ],
          "name": "stdout"
        }
      ]
    },
    {
      "cell_type": "markdown",
      "metadata": {
        "id": "LDfbj2VEGO6j",
        "colab_type": "text"
      },
      "source": [
        "Calculating Confusion Matrix"
      ]
    },
    {
      "cell_type": "code",
      "metadata": {
        "id": "kvX8GnbzAYvj",
        "colab_type": "code",
        "colab": {
          "base_uri": "https://localhost:8080/",
          "height": 67
        },
        "outputId": "a694ebf9-312e-4b9e-908f-7e886b5a9b5b"
      },
      "source": [
        "CM = confusion_matrix(y_test, y_pred)\n",
        "print('Confusion Matrix is : \\n', CM)"
      ],
      "execution_count": 41,
      "outputs": [
        {
          "output_type": "stream",
          "text": [
            "Confusion Matrix is : \n",
            " [[543  19]\n",
            " [ 31 328]]\n"
          ],
          "name": "stdout"
        }
      ]
    },
    {
      "cell_type": "markdown",
      "metadata": {
        "id": "SpZ_wCG6GTKJ",
        "colab_type": "text"
      },
      "source": [
        "drawing confusion matrix"
      ]
    },
    {
      "cell_type": "code",
      "metadata": {
        "id": "KoCteunvAZ98",
        "colab_type": "code",
        "colab": {
          "base_uri": "https://localhost:8080/",
          "height": 265
        },
        "outputId": "670fb53b-e81f-4d15-dcaa-4bdbfe8429d8"
      },
      "source": [
        "sns.heatmap(CM, center = True)\n",
        "plt.show()\n"
      ],
      "execution_count": 42,
      "outputs": [
        {
          "output_type": "display_data",
          "data": {
            "image/png": "[encoded data removed]",
            "text/plain": [
              "<Figure size 432x288 with 2 Axes>"
            ]
          },
          "metadata": {
            "tags": []
          }
        }
      ]
    },
    {
      "cell_type": "markdown",
      "metadata": {
        "id": "VP8MjqjMGXl6",
        "colab_type": "text"
      },
      "source": [
        "Calculating Accuracy Score  : ((TP + TN) / float(TP + TN + FP + FN))"
      ]
    },
    {
      "cell_type": "code",
      "metadata": {
        "id": "B4NFUgA9AZ79",
        "colab_type": "code",
        "colab": {
          "base_uri": "https://localhost:8080/",
          "height": 34
        },
        "outputId": "47f2c5f0-d022-47c2-eb9b-13f56d8a3b9d"
      },
      "source": [
        "AccScore = accuracy_score(y_test, y_pred, normalize=False)\n",
        "print('Accuracy Score is : ', AccScore)"
      ],
      "execution_count": 43,
      "outputs": [
        {
          "output_type": "stream",
          "text": [
            "Accuracy Score is :  871\n"
          ],
          "name": "stdout"
        }
      ]
    },
    {
      "cell_type": "markdown",
      "metadata": {
        "id": "HvAUYbMRGbWn",
        "colab_type": "text"
      },
      "source": [
        "Calculating Area Under the Curve"
      ]
    },
    {
      "cell_type": "code",
      "metadata": {
        "id": "KXUmQptcAZ2w",
        "colab_type": "code",
        "colab": {
          "base_uri": "https://localhost:8080/",
          "height": 34
        },
        "outputId": "5a115a0c-af55-47fd-e535-f4d95df12c4b"
      },
      "source": [
        "fprValue2, tprValue2, thresholdsValue2 = roc_curve(y_test,y_pred)\n",
        "AUCValue = auc(fprValue2, tprValue2)\n",
        "print('AUC Value  : ', AUCValue)\n"
      ],
      "execution_count": 44,
      "outputs": [
        {
          "output_type": "stream",
          "text": [
            "AUC Value  :  0.9399205979440716\n"
          ],
          "name": "stdout"
        }
      ]
    },
    {
      "cell_type": "markdown",
      "metadata": {
        "id": "i-TCoWgSGfce",
        "colab_type": "text"
      },
      "source": [
        "Ploting the (ROC Curve)"
      ]
    },
    {
      "cell_type": "code",
      "metadata": {
        "id": "VT1lMHxWAZ0c",
        "colab_type": "code",
        "colab": {
          "base_uri": "https://localhost:8080/",
          "height": 312
        },
        "outputId": "912c93cd-2a19-408a-d27f-615a5a72bddd"
      },
      "source": [
        "plt.title('Receiver Operating Characteristic (The ROC cruve)')\n",
        "plt.plot(fprValue2, tprValue2, 'b', label = 'AUC = %0.2f' % AUCValue)\n",
        "plt.legend(loc = 'lower right')\n",
        "plt.plot([0, 1], [0, 1],'r--')\n",
        "plt.xlim([0, 1])\n",
        "plt.ylim([0, 1])\n",
        "plt.ylabel('True Positive Rate')\n",
        "plt.xlabel('False Positive Rate')"
      ],
      "execution_count": 45,
      "outputs": [
        {
          "output_type": "execute_result",
          "data": {
            "text/plain": [
              "Text(0.5, 0, 'False Positive Rate')"
            ]
          },
          "metadata": {
            "tags": []
          },
          "execution_count": 45
        },
        {
          "output_type": "display_data",
          "data": {
            "image/png": "[encoded data removed]",
            "text/plain": [
              "<Figure size 432x288 with 1 Axes>"
            ]
          },
          "metadata": {
            "tags": []
          }
        }
      ]
    },
    {
      "cell_type": "markdown",
      "metadata": {
        "id": "Py1b1W6cA_ge",
        "colab_type": "text"
      },
      "source": [
        "# 6 - KNeighbors Classifier Model "
      ]
    },
    {
      "cell_type": "markdown",
      "metadata": {
        "id": "G4ldVT_iGrSk",
        "colab_type": "text"
      },
      "source": [
        "Import Libraries"
      ]
    },
    {
      "cell_type": "code",
      "metadata": {
        "id": "smR5W66vAZvS",
        "colab_type": "code",
        "colab": {}
      },
      "source": [
        "from sklearn.neighbors import KNeighborsClassifier"
      ],
      "execution_count": 0,
      "outputs": []
    },
    {
      "cell_type": "markdown",
      "metadata": {
        "id": "6yDz81BGGr7I",
        "colab_type": "text"
      },
      "source": [
        "Applying KNeighborsClassifier Model "
      ]
    },
    {
      "cell_type": "code",
      "metadata": {
        "id": "undRws2RAZsw",
        "colab_type": "code",
        "colab": {
          "base_uri": "https://localhost:8080/",
          "height": 67
        },
        "outputId": "2a9fd22e-8bee-467e-8cf2-cbb1cf2980f3"
      },
      "source": [
        "KNNClassifierModel = KNeighborsClassifier(n_neighbors= 5,weights ='uniform', # it can be distance\n",
        "                                          algorithm='auto') # it can be ball_tree, kd_tree,brute\n",
        "KNNClassifierModel.fit(X_train, y_train)\n"
      ],
      "execution_count": 47,
      "outputs": [
        {
          "output_type": "execute_result",
          "data": {
            "text/plain": [
              "KNeighborsClassifier(algorithm='auto', leaf_size=30, metric='minkowski',\n",
              "                     metric_params=None, n_jobs=None, n_neighbors=5, p=2,\n",
              "                     weights='uniform')"
            ]
          },
          "metadata": {
            "tags": []
          },
          "execution_count": 47
        }
      ]
    },
    {
      "cell_type": "markdown",
      "metadata": {
        "id": "5CenjuO-G_ju",
        "colab_type": "text"
      },
      "source": [
        "Calculating Prediction"
      ]
    },
    {
      "cell_type": "code",
      "metadata": {
        "id": "K419XunpAZni",
        "colab_type": "code",
        "colab": {
          "base_uri": "https://localhost:8080/",
          "height": 34
        },
        "outputId": "a019ce7e-e036-443b-f819-47c30c52c562"
      },
      "source": [
        "y_pred = KNNClassifierModel.predict(X_test)\n",
        "y_pred_prob = KNNClassifierModel.predict_proba(X_test)\n",
        "print('Predicted Value for KNNClassifierModel is : ' , y_pred[:1])"
      ],
      "execution_count": 48,
      "outputs": [
        {
          "output_type": "stream",
          "text": [
            "Predicted Value for KNNClassifierModel is :  [0]\n"
          ],
          "name": "stdout"
        }
      ]
    },
    {
      "cell_type": "markdown",
      "metadata": {
        "id": "3XYwRsmsHEg6",
        "colab_type": "text"
      },
      "source": [
        "Calculating Confusion Matrix"
      ]
    },
    {
      "cell_type": "code",
      "metadata": {
        "id": "bbu3E7pkAZk7",
        "colab_type": "code",
        "colab": {
          "base_uri": "https://localhost:8080/",
          "height": 67
        },
        "outputId": "4b99b38b-f689-4edd-a3a3-2a86e7d3f42d"
      },
      "source": [
        "CM = confusion_matrix(y_test, y_pred)\n",
        "print('Confusion Matrix is : \\n', CM)"
      ],
      "execution_count": 49,
      "outputs": [
        {
          "output_type": "stream",
          "text": [
            "Confusion Matrix is : \n",
            " [[527  35]\n",
            " [ 54 305]]\n"
          ],
          "name": "stdout"
        }
      ]
    },
    {
      "cell_type": "markdown",
      "metadata": {
        "id": "nbh0Nm3cHIpl",
        "colab_type": "text"
      },
      "source": [
        "drawing confusion matrix"
      ]
    },
    {
      "cell_type": "code",
      "metadata": {
        "id": "SDzwUK5HAYs0",
        "colab_type": "code",
        "colab": {
          "base_uri": "https://localhost:8080/",
          "height": 265
        },
        "outputId": "c8cd9472-eaf1-4a01-8271-76ef9225103f"
      },
      "source": [
        "sns.heatmap(CM, center = True)\n",
        "plt.show()"
      ],
      "execution_count": 50,
      "outputs": [
        {
          "output_type": "display_data",
          "data": {
            "image/png": "[encoded data removed]",
            "text/plain": [
              "<Figure size 432x288 with 2 Axes>"
            ]
          },
          "metadata": {
            "tags": []
          }
        }
      ]
    },
    {
      "cell_type": "markdown",
      "metadata": {
        "id": "y9qk2TiXHMeq",
        "colab_type": "text"
      },
      "source": [
        "Calculating Accuracy Score  : ((TP + TN) / float(TP + TN + FP + FN))"
      ]
    },
    {
      "cell_type": "code",
      "metadata": {
        "id": "fY4ruilZAYqW",
        "colab_type": "code",
        "colab": {
          "base_uri": "https://localhost:8080/",
          "height": 34
        },
        "outputId": "7dbbfd4c-cb88-4559-997c-45257625de91"
      },
      "source": [
        "AccScore = accuracy_score(y_test, y_pred, normalize=False)\n",
        "print('Accuracy Score is : ', AccScore)"
      ],
      "execution_count": 51,
      "outputs": [
        {
          "output_type": "stream",
          "text": [
            "Accuracy Score is :  832\n"
          ],
          "name": "stdout"
        }
      ]
    },
    {
      "cell_type": "markdown",
      "metadata": {
        "id": "6kQHQYSzHQF9",
        "colab_type": "text"
      },
      "source": [
        "Calculating Area Under the Curve"
      ]
    },
    {
      "cell_type": "code",
      "metadata": {
        "id": "vXfoqAScAYlK",
        "colab_type": "code",
        "colab": {
          "base_uri": "https://localhost:8080/",
          "height": 34
        },
        "outputId": "235c7639-9cc8-4ced-c3d2-36f34483908e"
      },
      "source": [
        "fprValue2, tprValue2, thresholdsValue2 = roc_curve(y_test,y_pred)\n",
        "AUCValue = auc(fprValue2, tprValue2)\n",
        "print('AUC Value  : ', AUCValue)"
      ],
      "execution_count": 52,
      "outputs": [
        {
          "output_type": "stream",
          "text": [
            "AUC Value  :  0.8936522963153878\n"
          ],
          "name": "stdout"
        }
      ]
    },
    {
      "cell_type": "markdown",
      "metadata": {
        "id": "V95O9mdXHUfR",
        "colab_type": "text"
      },
      "source": [
        "Ploting the (ROC Curve)"
      ]
    },
    {
      "cell_type": "code",
      "metadata": {
        "id": "KmsgedBRAYjR",
        "colab_type": "code",
        "colab": {
          "base_uri": "https://localhost:8080/",
          "height": 312
        },
        "outputId": "3c225e12-edfd-4cac-c9b5-c4ee7bea7d71"
      },
      "source": [
        "plt.title('Receiver Operating Characteristic (The ROC cruve)')\n",
        "plt.plot(fprValue2, tprValue2, 'b', label = 'AUC = %0.2f' % AUCValue)\n",
        "plt.legend(loc = 'lower right')\n",
        "plt.plot([0, 1], [0, 1],'r--')\n",
        "plt.xlim([0, 1])\n",
        "plt.ylim([0, 1])\n",
        "plt.ylabel('True Positive Rate')\n",
        "plt.xlabel('False Positive Rate')"
      ],
      "execution_count": 53,
      "outputs": [
        {
          "output_type": "execute_result",
          "data": {
            "text/plain": [
              "Text(0.5, 0, 'False Positive Rate')"
            ]
          },
          "metadata": {
            "tags": []
          },
          "execution_count": 53
        },
        {
          "output_type": "display_data",
          "data": {
            "image/png": "[encoded data removed]",
            "text/plain": [
              "<Figure size 432x288 with 1 Axes>"
            ]
          },
          "metadata": {
            "tags": []
          }
        }
      ]
    },
    {
      "cell_type": "markdown",
      "metadata": {
        "id": "WLLBvwLYB5kF",
        "colab_type": "text"
      },
      "source": [
        "# 7 - GaussianNB Model "
      ]
    },
    {
      "cell_type": "markdown",
      "metadata": {
        "id": "UjEG4fSGHrTO",
        "colab_type": "text"
      },
      "source": [
        "Import Libraries"
      ]
    },
    {
      "cell_type": "code",
      "metadata": {
        "id": "ObDgE-AwAYgO",
        "colab_type": "code",
        "colab": {}
      },
      "source": [
        "from sklearn.naive_bayes import GaussianNB"
      ],
      "execution_count": 0,
      "outputs": []
    },
    {
      "cell_type": "markdown",
      "metadata": {
        "id": "uuryWJthHzmX",
        "colab_type": "text"
      },
      "source": [
        "Applying GaussianNB Model \n"
      ]
    },
    {
      "cell_type": "code",
      "metadata": {
        "id": "qMAdUf3FCGoM",
        "colab_type": "code",
        "colab": {
          "base_uri": "https://localhost:8080/",
          "height": 34
        },
        "outputId": "799282bd-b8f1-4043-a933-fa145233c74a"
      },
      "source": [
        "GaussianNBModel = GaussianNB()\n",
        "GaussianNBModel.fit(X_train, y_train)"
      ],
      "execution_count": 55,
      "outputs": [
        {
          "output_type": "execute_result",
          "data": {
            "text/plain": [
              "GaussianNB(priors=None, var_smoothing=1e-09)"
            ]
          },
          "metadata": {
            "tags": []
          },
          "execution_count": 55
        }
      ]
    },
    {
      "cell_type": "markdown",
      "metadata": {
        "id": "dzamflKtH3L3",
        "colab_type": "text"
      },
      "source": [
        "Calculating Prediction"
      ]
    },
    {
      "cell_type": "code",
      "metadata": {
        "id": "kwr2F0aIAYa3",
        "colab_type": "code",
        "colab": {
          "base_uri": "https://localhost:8080/",
          "height": 34
        },
        "outputId": "c0de79b8-b842-41e8-b271-47f766d73eb7"
      },
      "source": [
        "y_pred = GaussianNBModel.predict(X_test)\n",
        "y_pred_prob = GaussianNBModel.predict_proba(X_test)\n",
        "print('Predicted Value for GaussianNBModel is : ' , y_pred[:1])"
      ],
      "execution_count": 56,
      "outputs": [
        {
          "output_type": "stream",
          "text": [
            "Predicted Value for GaussianNBModel is :  [0]\n"
          ],
          "name": "stdout"
        }
      ]
    },
    {
      "cell_type": "markdown",
      "metadata": {
        "id": "xej9LPpnH9XB",
        "colab_type": "text"
      },
      "source": [
        "Calculating Confusion Matrix"
      ]
    },
    {
      "cell_type": "code",
      "metadata": {
        "id": "t_RCgantAYYO",
        "colab_type": "code",
        "colab": {
          "base_uri": "https://localhost:8080/",
          "height": 67
        },
        "outputId": "1239aced-c6f8-4a88-eab2-182d557ef9f7"
      },
      "source": [
        "CM = confusion_matrix(y_test, y_pred)\n",
        "print('Confusion Matrix is : \\n', CM)"
      ],
      "execution_count": 57,
      "outputs": [
        {
          "output_type": "stream",
          "text": [
            "Confusion Matrix is : \n",
            " [[416 146]\n",
            " [ 17 342]]\n"
          ],
          "name": "stdout"
        }
      ]
    },
    {
      "cell_type": "markdown",
      "metadata": {
        "id": "qmfylADJIDT9",
        "colab_type": "text"
      },
      "source": [
        "drawing confusion matrix"
      ]
    },
    {
      "cell_type": "code",
      "metadata": {
        "id": "lr0jR0aBAYV5",
        "colab_type": "code",
        "colab": {
          "base_uri": "https://localhost:8080/",
          "height": 265
        },
        "outputId": "126b2cc4-7d56-4de0-e413-65bedb2f2cdd"
      },
      "source": [
        "sns.heatmap(CM, center = True)\n",
        "plt.show()"
      ],
      "execution_count": 58,
      "outputs": [
        {
          "output_type": "display_data",
          "data": {
            "image/png": "[encoded data removed]",
            "text/plain": [
              "<Figure size 432x288 with 2 Axes>"
            ]
          },
          "metadata": {
            "tags": []
          }
        }
      ]
    },
    {
      "cell_type": "markdown",
      "metadata": {
        "id": "PejFhyNBIGlU",
        "colab_type": "text"
      },
      "source": [
        "Calculating Accuracy Score  : ((TP + TN) / float(TP + TN + FP + FN))"
      ]
    },
    {
      "cell_type": "code",
      "metadata": {
        "id": "05RE7cuMAYTi",
        "colab_type": "code",
        "colab": {
          "base_uri": "https://localhost:8080/",
          "height": 34
        },
        "outputId": "e89c04a7-e81f-432d-f675-e6f4fc27836b"
      },
      "source": [
        "AccScore = accuracy_score(y_test, y_pred, normalize=False)\n",
        "print('Accuracy Score is : ', AccScore)"
      ],
      "execution_count": 59,
      "outputs": [
        {
          "output_type": "stream",
          "text": [
            "Accuracy Score is :  758\n"
          ],
          "name": "stdout"
        }
      ]
    },
    {
      "cell_type": "markdown",
      "metadata": {
        "id": "anC52g5MIKvm",
        "colab_type": "text"
      },
      "source": [
        "Calculating Area Under the Curve"
      ]
    },
    {
      "cell_type": "code",
      "metadata": {
        "id": "B2bYRJOkAYNa",
        "colab_type": "code",
        "colab": {
          "base_uri": "https://localhost:8080/",
          "height": 34
        },
        "outputId": "a817d238-6e49-4961-d7e1-af8f0aafa737"
      },
      "source": [
        "fprValue2, tprValue2, thresholdsValue2 = roc_curve(y_test,y_pred)\n",
        "AUCValue = auc(fprValue2, tprValue2)\n",
        "print('AUC Value  : ', AUCValue)\n"
      ],
      "execution_count": 60,
      "outputs": [
        {
          "output_type": "stream",
          "text": [
            "AUC Value  :  0.8464298813429951\n"
          ],
          "name": "stdout"
        }
      ]
    },
    {
      "cell_type": "markdown",
      "metadata": {
        "id": "25bjWtW1IOxd",
        "colab_type": "text"
      },
      "source": [
        "Ploting the (ROC Curve)"
      ]
    },
    {
      "cell_type": "code",
      "metadata": {
        "id": "f1Pm9H_dAYH8",
        "colab_type": "code",
        "colab": {
          "base_uri": "https://localhost:8080/",
          "height": 312
        },
        "outputId": "e8c390d3-e4b8-4bd7-dc7d-4dc193892d86"
      },
      "source": [
        "plt.title('Receiver Operating Characteristic (The ROC cruve)')\n",
        "plt.plot(fprValue2, tprValue2, 'b', label = 'AUC = %0.2f' % AUCValue)\n",
        "plt.legend(loc = 'lower right')\n",
        "plt.plot([0, 1], [0, 1],'r--')\n",
        "plt.xlim([0, 1])\n",
        "plt.ylim([0, 1])\n",
        "plt.ylabel('True Positive Rate')\n",
        "plt.xlabel('False Positive Rate')"
      ],
      "execution_count": 61,
      "outputs": [
        {
          "output_type": "execute_result",
          "data": {
            "text/plain": [
              "Text(0.5, 0, 'False Positive Rate')"
            ]
          },
          "metadata": {
            "tags": []
          },
          "execution_count": 61
        },
        {
          "output_type": "display_data",
          "data": {
            "image/png": "[encoded data removed]",
            "text/plain": [
              "<Figure size 432x288 with 1 Axes>"
            ]
          },
          "metadata": {
            "tags": []
          }
        }
      ]
    },
    {
      "cell_type": "markdown",
      "metadata": {
        "id": "0guYaTVrUkH2",
        "colab_type": "text"
      },
      "source": [
        "# Conclusion"
      ]
    },
    {
      "cell_type": "markdown",
      "metadata": {
        "id": "9LjNDR1yU17m",
        "colab_type": "text"
      },
      "source": [
        "After we analyze all the data and look at many methods of classification, we have some conclusions.\n",
        "1- As we said in our initial data exploration, we need to find a way to our program get a classifier with an error less than 38% (because, in the worst case of telling that every email is Spam, we have 38% of error).\n",
        "\n",
        "2- Comparing many methods, we concluded that (in this specific case) the Gradient Boosting Classifier performs better than all methods. The area under the curve of Gradient Boosting Classifier was the highest between all methods (it was around 0.94). Moreover, the accuracy score was the highest between all methods (871) and others rates were. In addition, 347 items are spam from test dataset, generally, the best method in classification.\n"
      ]
    }
  ]
}